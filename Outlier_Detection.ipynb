{
  "nbformat": 4,
  "nbformat_minor": 0,
  "metadata": {
    "colab": {
      "name": "Outlier Detection.ipynb",
      "provenance": [],
      "collapsed_sections": []
    },
    "kernelspec": {
      "name": "python3",
      "display_name": "Python 3"
    },
    "language_info": {
      "name": "python"
    }
  },
  "cells": [
    {
      "cell_type": "markdown",
      "source": [
        "1. Outliers using Zscore\n",
        "2. Lower and Higher Fence using IQR\n",
        "3. Outliers using Boxplot"
      ],
      "metadata": {
        "id": "S7horg74lId2"
      }
    },
    {
      "cell_type": "code",
      "execution_count": 12,
      "metadata": {
        "id": "dYStZjFuehim"
      },
      "outputs": [],
      "source": [
        "import matplotlib.pyplot as plt\n",
        "import numpy as np\n",
        "import seaborn as sns\n",
        "%matplotlib inline"
      ]
    },
    {
      "cell_type": "code",
      "source": [
        "dataset = [11,10,12,14,12,15,14,13,15,102,12,14,17,19,107,10,13,12,14,12,108,12,11,14,13,15,10,15,12,10,14,13,15,10]"
      ],
      "metadata": {
        "id": "Y3_y26LvepGv"
      },
      "execution_count": 2,
      "outputs": []
    },
    {
      "cell_type": "code",
      "source": [
        "outliers = []\n",
        "def detect_outliers(data):\n",
        "  threshold = 3  # third standard deviation\n",
        "  mean = np.mean(data)\n",
        "  std = np.std(data)\n",
        "  for i in data:\n",
        "    zscore = (i-mean)/std\n",
        "    if np.abs(zscore) > threshold:\n",
        "      outliers.append(i)\n",
        "  return outliers\n"
      ],
      "metadata": {
        "id": "LLlc1taafTcD"
      },
      "execution_count": 3,
      "outputs": []
    },
    {
      "cell_type": "code",
      "source": [
        "get_outliers = detect_outliers(dataset)"
      ],
      "metadata": {
        "id": "6DR0AgPKgq6i"
      },
      "execution_count": 4,
      "outputs": []
    },
    {
      "cell_type": "code",
      "source": [
        "get_outliers "
      ],
      "metadata": {
        "colab": {
          "base_uri": "https://localhost:8080/"
        },
        "id": "s3TN6_c8gz_L",
        "outputId": "3c592cd6-6e32-4187-d2ac-bdb263d57bb0"
      },
      "execution_count": 5,
      "outputs": [
        {
          "output_type": "execute_result",
          "data": {
            "text/plain": [
              "[102, 107, 108]"
            ]
          },
          "metadata": {},
          "execution_count": 5
        }
      ]
    },
    {
      "cell_type": "markdown",
      "source": [
        "# IQR\n",
        "1. Sort data\n",
        "2. Calculate Q1 and Q3\n",
        "3. IQR = Q3-Q1\n",
        "4. Find Lower Fence = Q1 - 1.5*IQR\n",
        "5. Find Higher Fence = Q3 + 1.5*IQR\n"
      ],
      "metadata": {
        "id": "h1HX2JD0hyDz"
      }
    },
    {
      "cell_type": "code",
      "source": [
        "#sort data\n",
        "dataset = sorted(dataset)\n",
        "\n",
        "# Calculate Q1 and Q3\n",
        "Q1,Q3 = np.percentile(dataset,[25,75])\n",
        "\n",
        "# Calculate IQR\n",
        "IQR = Q3-Q1\n",
        "\n",
        "# Lower Fence\n",
        "lower_fence = Q1 - (1.5*IQR)\n",
        "\n",
        "#Higher Fence\n",
        "higher_fence = Q3 + (1.5*IQR)"
      ],
      "metadata": {
        "id": "JK2WQtIfiGWB"
      },
      "execution_count": 8,
      "outputs": []
    },
    {
      "cell_type": "code",
      "source": [
        "lower_fence"
      ],
      "metadata": {
        "colab": {
          "base_uri": "https://localhost:8080/"
        },
        "id": "Nie6eLtiigCA",
        "outputId": "293650d5-b10f-42c3-a827-326ece86d4be"
      },
      "execution_count": 9,
      "outputs": [
        {
          "output_type": "execute_result",
          "data": {
            "text/plain": [
              "7.5"
            ]
          },
          "metadata": {},
          "execution_count": 9
        }
      ]
    },
    {
      "cell_type": "code",
      "source": [
        "higher_fence"
      ],
      "metadata": {
        "colab": {
          "base_uri": "https://localhost:8080/"
        },
        "id": "6a5fOjoZjH8m",
        "outputId": "e6ebcf99-fd0f-40ee-ddd8-d28814bddfb1"
      },
      "execution_count": 10,
      "outputs": [
        {
          "output_type": "execute_result",
          "data": {
            "text/plain": [
              "19.5"
            ]
          },
          "metadata": {},
          "execution_count": 10
        }
      ]
    },
    {
      "cell_type": "code",
      "source": [
        "sns.boxplot(dataset)"
      ],
      "metadata": {
        "colab": {
          "base_uri": "https://localhost:8080/",
          "height": 338
        },
        "id": "hYSQm4JQjI5n",
        "outputId": "c0b7e84f-4ccb-4f4c-f7de-6d4d5ccd81c6"
      },
      "execution_count": 13,
      "outputs": [
        {
          "output_type": "stream",
          "name": "stderr",
          "text": [
            "/usr/local/lib/python3.7/dist-packages/seaborn/_decorators.py:43: FutureWarning: Pass the following variable as a keyword arg: x. From version 0.12, the only valid positional argument will be `data`, and passing other arguments without an explicit keyword will result in an error or misinterpretation.\n",
            "  FutureWarning\n"
          ]
        },
        {
          "output_type": "execute_result",
          "data": {
            "text/plain": [
              "<matplotlib.axes._subplots.AxesSubplot at 0x7fa5984f02d0>"
            ]
          },
          "metadata": {},
          "execution_count": 13
        },
        {
          "output_type": "display_data",
          "data": {
            "text/plain": [
              "<Figure size 432x288 with 1 Axes>"
            ],
            "image/png": "[encoded data removed]"
          },
          "metadata": {
            "needs_background": "light"
          }
        }
      ]
    },
    {
      "cell_type": "code",
      "source": [
        ""
      ],
      "metadata": {
        "id": "2GOIMPxQjZ2-"
      },
      "execution_count": null,
      "outputs": []
    }
  ]
}